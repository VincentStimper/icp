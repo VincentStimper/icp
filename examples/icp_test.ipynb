{
 "cells": [
  {
   "cell_type": "code",
   "execution_count": null,
   "metadata": {},
   "outputs": [],
   "source": [
    "# Load required packages\n",
    "import numpy as np\n",
    "import matplotlib.pyplot as plt\n",
    "from fuller.utils import icp"
   ]
  },
  {
   "cell_type": "code",
   "execution_count": null,
   "metadata": {},
   "outputs": [],
   "source": [
    "# Generate data\n",
    "n_dst = 50\n",
    "x_dst, y_dst = np.meshgrid(np.linspace(-1, 1, n_dst), np.linspace(-1, 1, n_dst), indexing='ij')\n",
    "z_dst = x_dst ** 2 + y_dst ** 2\n",
    "plt.figure(figsize=(12, 9))\n",
    "plt.pcolormesh(x_dst, y_dst, z_dst)\n",
    "\n",
    "offset = 0.2\n",
    "scale = 0.9\n",
    "n_src = 50\n",
    "x_src, y_src = np.meshgrid(np.linspace(-1, 1, n_src), np.linspace(-1, 1, n_src), indexing='ij')\n",
    "z_src = x_src ** 2 + y_src ** 2 -offset\n",
    "x_src *= 1 / scale\n",
    "y_src *= 1 / scale\n",
    "plt.figure(figsize=(12, 9))\n",
    "plt.pcolormesh(x_src, y_src, z_src)\n",
    "\n",
    "src = np.column_stack((np.reshape(x_src, (n_src ** 2,)), np.reshape(y_src, (n_src ** 2,)),\n",
    "                       np.reshape(z_src, (n_src ** 2,))))\n",
    "src += np.random.normal(loc=0, scale=0.1, size=(n_src * n_src, 3))\n",
    "dst = np.column_stack((np.reshape(x_dst, (n_dst ** 2,)), np.reshape(y_dst, (n_dst ** 2,)),\n",
    "                       np.reshape(z_dst, (n_dst ** 2,))))"
   ]
  },
  {
   "cell_type": "code",
   "execution_count": null,
   "metadata": {},
   "outputs": [],
   "source": [
    "# Apply ICP\n",
    "scale, offset = icp(src, dst, dim_offset=[2], dim_scale=[0, 1], num_iter=50, use_gpu=False)"
   ]
  },
  {
   "cell_type": "code",
   "execution_count": null,
   "metadata": {},
   "outputs": [],
   "source": [
    "scale"
   ]
  },
  {
   "cell_type": "code",
   "execution_count": null,
   "metadata": {},
   "outputs": [],
   "source": [
    "offset"
   ]
  },
  {
   "cell_type": "code",
   "execution_count": null,
   "metadata": {},
   "outputs": [],
   "source": []
  }
 ],
 "metadata": {
  "kernelspec": {
   "display_name": "matinf",
   "language": "python",
   "name": "matinf"
  },
  "language_info": {
   "codemirror_mode": {
    "name": "ipython",
    "version": 3
   },
   "file_extension": ".py",
   "mimetype": "text/x-python",
   "name": "python",
   "nbconvert_exporter": "python",
   "pygments_lexer": "ipython3",
   "version": "3.6.6"
  }
 },
 "nbformat": 4,
 "nbformat_minor": 1
}
